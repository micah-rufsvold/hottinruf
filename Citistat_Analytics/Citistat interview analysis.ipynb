{
 "metadata": {
  "language_info": {
   "codemirror_mode": {
    "name": "ipython",
    "version": 3
   },
   "file_extension": ".py",
   "mimetype": "text/x-python",
   "name": "python",
   "nbconvert_exporter": "python",
   "pygments_lexer": "ipython3",
   "version": "3.8.3-final"
  },
  "orig_nbformat": 2,
  "kernelspec": {
   "name": "python3",
   "display_name": "Python 3"
  }
 },
 "nbformat": 4,
 "nbformat_minor": 2,
 "cells": [
  {
   "cell_type": "code",
   "execution_count": 1,
   "metadata": {},
   "outputs": [
    {
     "output_type": "execute_result",
     "data": {
      "text/plain": [
       "  Service Request Number      SR Type  \\\n",
       "0            16-00000002  SW-Boarding   \n",
       "1            16-00000003  SW-Boarding   \n",
       "2            16-00000005  SW-Cleaning   \n",
       "3            16-00000006  SW-Cleaning   \n",
       "4            16-00000007  SW-Cleaning   \n",
       "\n",
       "                                              Agency        Created Date  \\\n",
       "0  Solid Waste                                   ... 2016-01-01 00:14:54   \n",
       "1  Solid Waste                                   ... 2016-01-01 00:15:00   \n",
       "2  Solid Waste                                   ... 2016-01-01 00:22:38   \n",
       "3  Solid Waste                                   ... 2016-01-01 00:22:56   \n",
       "4  Solid Waste                                   ... 2016-01-01 00:23:07   \n",
       "\n",
       "  SR Status            Due Date          Close Date  \\\n",
       "0    Closed 2016-01-08 00:14:54 2016-01-05 00:28:18   \n",
       "1    Closed 2016-01-08 00:15:00 2016-01-05 00:28:14   \n",
       "2    Closed 2016-01-31 00:22:38 2016-01-07 15:21:42   \n",
       "3    Closed 2016-01-31 00:22:56 2016-01-05 00:30:55   \n",
       "4    Closed 2016-01-31 00:23:07 2016-01-05 00:30:54   \n",
       "\n",
       "                                 Street Address  \\\n",
       "0  4657 PARK HEIGHTS AVE, Baltimore City, 21215   \n",
       "1      4340 SHAMROCK AVE, Baltimore City, 21206   \n",
       "2      2037 W FAYETTE ST, Baltimore City, 21223   \n",
       "3      2011 LLEWELYN AVE, Baltimore City, 21213   \n",
       "4      2009 LLEWELYN AVE, Baltimore City, 21213   \n",
       "\n",
       "                      Neighborhood   Latitude  Longitude geo_sw_quad  \n",
       "0             Central Park Heights  39.343879 -76.669594   NORTHWEST  \n",
       "1                    Belair-Edison  39.326170 -76.562557   NORTHEAST  \n",
       "2  Penrose/Fayette Street Outreach  39.289452 -76.649281   SOUTHWEST  \n",
       "3                    Broadway East  39.307052 -76.589572   SOUTHEAST  \n",
       "4                    Broadway East  39.307055 -76.589614   SOUTHEAST  "
      ],
      "text/html": "<div>\n<style scoped>\n    .dataframe tbody tr th:only-of-type {\n        vertical-align: middle;\n    }\n\n    .dataframe tbody tr th {\n        vertical-align: top;\n    }\n\n    .dataframe thead th {\n        text-align: right;\n    }\n</style>\n<table border=\"1\" class=\"dataframe\">\n  <thead>\n    <tr style=\"text-align: right;\">\n      <th></th>\n      <th>Service Request Number</th>\n      <th>SR Type</th>\n      <th>Agency</th>\n      <th>Created Date</th>\n      <th>SR Status</th>\n      <th>Due Date</th>\n      <th>Close Date</th>\n      <th>Street Address</th>\n      <th>Neighborhood</th>\n      <th>Latitude</th>\n      <th>Longitude</th>\n      <th>geo_sw_quad</th>\n    </tr>\n  </thead>\n  <tbody>\n    <tr>\n      <th>0</th>\n      <td>16-00000002</td>\n      <td>SW-Boarding</td>\n      <td>Solid Waste                                   ...</td>\n      <td>2016-01-01 00:14:54</td>\n      <td>Closed</td>\n      <td>2016-01-08 00:14:54</td>\n      <td>2016-01-05 00:28:18</td>\n      <td>4657 PARK HEIGHTS AVE, Baltimore City, 21215</td>\n      <td>Central Park Heights</td>\n      <td>39.343879</td>\n      <td>-76.669594</td>\n      <td>NORTHWEST</td>\n    </tr>\n    <tr>\n      <th>1</th>\n      <td>16-00000003</td>\n      <td>SW-Boarding</td>\n      <td>Solid Waste                                   ...</td>\n      <td>2016-01-01 00:15:00</td>\n      <td>Closed</td>\n      <td>2016-01-08 00:15:00</td>\n      <td>2016-01-05 00:28:14</td>\n      <td>4340 SHAMROCK AVE, Baltimore City, 21206</td>\n      <td>Belair-Edison</td>\n      <td>39.326170</td>\n      <td>-76.562557</td>\n      <td>NORTHEAST</td>\n    </tr>\n    <tr>\n      <th>2</th>\n      <td>16-00000005</td>\n      <td>SW-Cleaning</td>\n      <td>Solid Waste                                   ...</td>\n      <td>2016-01-01 00:22:38</td>\n      <td>Closed</td>\n      <td>2016-01-31 00:22:38</td>\n      <td>2016-01-07 15:21:42</td>\n      <td>2037 W FAYETTE ST, Baltimore City, 21223</td>\n      <td>Penrose/Fayette Street Outreach</td>\n      <td>39.289452</td>\n      <td>-76.649281</td>\n      <td>SOUTHWEST</td>\n    </tr>\n    <tr>\n      <th>3</th>\n      <td>16-00000006</td>\n      <td>SW-Cleaning</td>\n      <td>Solid Waste                                   ...</td>\n      <td>2016-01-01 00:22:56</td>\n      <td>Closed</td>\n      <td>2016-01-31 00:22:56</td>\n      <td>2016-01-05 00:30:55</td>\n      <td>2011 LLEWELYN AVE, Baltimore City, 21213</td>\n      <td>Broadway East</td>\n      <td>39.307052</td>\n      <td>-76.589572</td>\n      <td>SOUTHEAST</td>\n    </tr>\n    <tr>\n      <th>4</th>\n      <td>16-00000007</td>\n      <td>SW-Cleaning</td>\n      <td>Solid Waste                                   ...</td>\n      <td>2016-01-01 00:23:07</td>\n      <td>Closed</td>\n      <td>2016-01-31 00:23:07</td>\n      <td>2016-01-05 00:30:54</td>\n      <td>2009 LLEWELYN AVE, Baltimore City, 21213</td>\n      <td>Broadway East</td>\n      <td>39.307055</td>\n      <td>-76.589614</td>\n      <td>SOUTHEAST</td>\n    </tr>\n  </tbody>\n</table>\n</div>"
     },
     "metadata": {},
     "execution_count": 1
    }
   ],
   "source": [
    "#This originally imported the Excel doc and saved it off as a pickle file for quick access.\n",
    "\"\"\"import pandas as pd \n",
    "original_recs = pd.read_excel(r'311_CSR_SW.xlsx')\n",
    "original_recs.to_pickle('311_CSR_SW.pkl')\n",
    "original_recs.head()\"\"\""
   ]
  },
  {
   "cell_type": "code",
   "execution_count": 11,
   "metadata": {},
   "outputs": [
    {
     "output_type": "execute_result",
     "data": {
      "text/plain": [
       "       Service Request Number      SR Type  \\\n",
       "0                 16-00000002  SW-Boarding   \n",
       "1                 16-00000003  SW-Boarding   \n",
       "2                 16-00000005  SW-Cleaning   \n",
       "3                 16-00000006  SW-Cleaning   \n",
       "4                 16-00000007  SW-Cleaning   \n",
       "...                       ...          ...   \n",
       "447561            20-00733655  SW-Cleaning   \n",
       "447562            20-00733683       SW-HGW   \n",
       "447563            20-00733712       SW-HGW   \n",
       "447564            20-00733713       SW-HGW   \n",
       "447565            20-00733732  SW-Cleaning   \n",
       "\n",
       "                                                   Agency        Created Date  \\\n",
       "0       Solid Waste                                   ... 2016-01-01 00:14:54   \n",
       "1       Solid Waste                                   ... 2016-01-01 00:15:00   \n",
       "2       Solid Waste                                   ... 2016-01-01 00:22:38   \n",
       "3       Solid Waste                                   ... 2016-01-01 00:22:56   \n",
       "4       Solid Waste                                   ... 2016-01-01 00:23:07   \n",
       "...                                                   ...                 ...   \n",
       "447561  Solid Waste                                   ... 2020-10-27 11:53:11   \n",
       "447562  Solid Waste                                   ... 2020-10-27 11:58:10   \n",
       "447563  Solid Waste                                   ... 2020-10-27 12:03:10   \n",
       "447564  Solid Waste                                   ... 2020-10-27 12:03:17   \n",
       "447565  Solid Waste                                   ... 2020-10-27 12:08:09   \n",
       "\n",
       "       SR Status            Due Date          Close Date  \\\n",
       "0         Closed 2016-01-08 00:14:54 2016-01-05 00:28:18   \n",
       "1         Closed 2016-01-08 00:15:00 2016-01-05 00:28:14   \n",
       "2         Closed 2016-01-31 00:22:38 2016-01-07 15:21:42   \n",
       "3         Closed 2016-01-31 00:22:56 2016-01-05 00:30:55   \n",
       "4         Closed 2016-01-31 00:23:07 2016-01-05 00:30:54   \n",
       "...          ...                 ...                 ...   \n",
       "447561      Open 2020-12-11 10:53:11                 NaT   \n",
       "447562      Open 2020-12-11 10:58:10                 NaT   \n",
       "447563      Open 2020-12-11 11:03:10                 NaT   \n",
       "447564      Open 2020-12-11 11:03:17                 NaT   \n",
       "447565      Open 2020-12-11 11:08:09                 NaT   \n",
       "\n",
       "                                      Street Address  \\\n",
       "0       4657 PARK HEIGHTS AVE, Baltimore City, 21215   \n",
       "1           4340 SHAMROCK AVE, Baltimore City, 21206   \n",
       "2           2037 W FAYETTE ST, Baltimore City, 21223   \n",
       "3           2011 LLEWELYN AVE, Baltimore City, 21213   \n",
       "4           2009 LLEWELYN AVE, Baltimore City, 21213   \n",
       "...                                              ...   \n",
       "447561           2134 VINE ST, Baltimore City, 21223   \n",
       "447562        4202 AUDREY AVE, Baltimore City, 21225   \n",
       "447563        302 S MONROE ST, Baltimore City, 21223   \n",
       "447564      1617 LLEWELYN AVE, Baltimore City, 21213   \n",
       "447565        308 S MONROE ST, Baltimore City, 21223   \n",
       "\n",
       "                           Neighborhood   Latitude  Longitude geo_sw_quad  \n",
       "0                  Central Park Heights  39.343879 -76.669594   NORTHWEST  \n",
       "1                         Belair-Edison  39.326170 -76.562557   NORTHEAST  \n",
       "2       Penrose/Fayette Street Outreach  39.289452 -76.649281   SOUTHWEST  \n",
       "3                         Broadway East  39.307052 -76.589572   SOUTHEAST  \n",
       "4                         Broadway East  39.307055 -76.589614   SOUTHEAST  \n",
       "...                                 ...        ...        ...         ...  \n",
       "447561  Penrose/Fayette Street Outreach  39.289998 -76.651049   SOUTHWEST  \n",
       "447562                         Brooklyn  39.229753 -76.605238   SOUTHWEST  \n",
       "447563                 Carrollton Ridge  39.284079 -76.646856   SOUTHWEST  \n",
       "447564                           Oliver  39.306862 -76.595619   SOUTHEAST  \n",
       "447565                 Carrollton Ridge  39.283952 -76.646862   SOUTHWEST  \n",
       "\n",
       "[374198 rows x 12 columns]"
      ],
      "text/html": "<div>\n<style scoped>\n    .dataframe tbody tr th:only-of-type {\n        vertical-align: middle;\n    }\n\n    .dataframe tbody tr th {\n        vertical-align: top;\n    }\n\n    .dataframe thead th {\n        text-align: right;\n    }\n</style>\n<table border=\"1\" class=\"dataframe\">\n  <thead>\n    <tr style=\"text-align: right;\">\n      <th></th>\n      <th>Service Request Number</th>\n      <th>SR Type</th>\n      <th>Agency</th>\n      <th>Created Date</th>\n      <th>SR Status</th>\n      <th>Due Date</th>\n      <th>Close Date</th>\n      <th>Street Address</th>\n      <th>Neighborhood</th>\n      <th>Latitude</th>\n      <th>Longitude</th>\n      <th>geo_sw_quad</th>\n    </tr>\n  </thead>\n  <tbody>\n    <tr>\n      <th>0</th>\n      <td>16-00000002</td>\n      <td>SW-Boarding</td>\n      <td>Solid Waste                                   ...</td>\n      <td>2016-01-01 00:14:54</td>\n      <td>Closed</td>\n      <td>2016-01-08 00:14:54</td>\n      <td>2016-01-05 00:28:18</td>\n      <td>4657 PARK HEIGHTS AVE, Baltimore City, 21215</td>\n      <td>Central Park Heights</td>\n      <td>39.343879</td>\n      <td>-76.669594</td>\n      <td>NORTHWEST</td>\n    </tr>\n    <tr>\n      <th>1</th>\n      <td>16-00000003</td>\n      <td>SW-Boarding</td>\n      <td>Solid Waste                                   ...</td>\n      <td>2016-01-01 00:15:00</td>\n      <td>Closed</td>\n      <td>2016-01-08 00:15:00</td>\n      <td>2016-01-05 00:28:14</td>\n      <td>4340 SHAMROCK AVE, Baltimore City, 21206</td>\n      <td>Belair-Edison</td>\n      <td>39.326170</td>\n      <td>-76.562557</td>\n      <td>NORTHEAST</td>\n    </tr>\n    <tr>\n      <th>2</th>\n      <td>16-00000005</td>\n      <td>SW-Cleaning</td>\n      <td>Solid Waste                                   ...</td>\n      <td>2016-01-01 00:22:38</td>\n      <td>Closed</td>\n      <td>2016-01-31 00:22:38</td>\n      <td>2016-01-07 15:21:42</td>\n      <td>2037 W FAYETTE ST, Baltimore City, 21223</td>\n      <td>Penrose/Fayette Street Outreach</td>\n      <td>39.289452</td>\n      <td>-76.649281</td>\n      <td>SOUTHWEST</td>\n    </tr>\n    <tr>\n      <th>3</th>\n      <td>16-00000006</td>\n      <td>SW-Cleaning</td>\n      <td>Solid Waste                                   ...</td>\n      <td>2016-01-01 00:22:56</td>\n      <td>Closed</td>\n      <td>2016-01-31 00:22:56</td>\n      <td>2016-01-05 00:30:55</td>\n      <td>2011 LLEWELYN AVE, Baltimore City, 21213</td>\n      <td>Broadway East</td>\n      <td>39.307052</td>\n      <td>-76.589572</td>\n      <td>SOUTHEAST</td>\n    </tr>\n    <tr>\n      <th>4</th>\n      <td>16-00000007</td>\n      <td>SW-Cleaning</td>\n      <td>Solid Waste                                   ...</td>\n      <td>2016-01-01 00:23:07</td>\n      <td>Closed</td>\n      <td>2016-01-31 00:23:07</td>\n      <td>2016-01-05 00:30:54</td>\n      <td>2009 LLEWELYN AVE, Baltimore City, 21213</td>\n      <td>Broadway East</td>\n      <td>39.307055</td>\n      <td>-76.589614</td>\n      <td>SOUTHEAST</td>\n    </tr>\n    <tr>\n      <th>...</th>\n      <td>...</td>\n      <td>...</td>\n      <td>...</td>\n      <td>...</td>\n      <td>...</td>\n      <td>...</td>\n      <td>...</td>\n      <td>...</td>\n      <td>...</td>\n      <td>...</td>\n      <td>...</td>\n      <td>...</td>\n    </tr>\n    <tr>\n      <th>447561</th>\n      <td>20-00733655</td>\n      <td>SW-Cleaning</td>\n      <td>Solid Waste                                   ...</td>\n      <td>2020-10-27 11:53:11</td>\n      <td>Open</td>\n      <td>2020-12-11 10:53:11</td>\n      <td>NaT</td>\n      <td>2134 VINE ST, Baltimore City, 21223</td>\n      <td>Penrose/Fayette Street Outreach</td>\n      <td>39.289998</td>\n      <td>-76.651049</td>\n      <td>SOUTHWEST</td>\n    </tr>\n    <tr>\n      <th>447562</th>\n      <td>20-00733683</td>\n      <td>SW-HGW</td>\n      <td>Solid Waste                                   ...</td>\n      <td>2020-10-27 11:58:10</td>\n      <td>Open</td>\n      <td>2020-12-11 10:58:10</td>\n      <td>NaT</td>\n      <td>4202 AUDREY AVE, Baltimore City, 21225</td>\n      <td>Brooklyn</td>\n      <td>39.229753</td>\n      <td>-76.605238</td>\n      <td>SOUTHWEST</td>\n    </tr>\n    <tr>\n      <th>447563</th>\n      <td>20-00733712</td>\n      <td>SW-HGW</td>\n      <td>Solid Waste                                   ...</td>\n      <td>2020-10-27 12:03:10</td>\n      <td>Open</td>\n      <td>2020-12-11 11:03:10</td>\n      <td>NaT</td>\n      <td>302 S MONROE ST, Baltimore City, 21223</td>\n      <td>Carrollton Ridge</td>\n      <td>39.284079</td>\n      <td>-76.646856</td>\n      <td>SOUTHWEST</td>\n    </tr>\n    <tr>\n      <th>447564</th>\n      <td>20-00733713</td>\n      <td>SW-HGW</td>\n      <td>Solid Waste                                   ...</td>\n      <td>2020-10-27 12:03:17</td>\n      <td>Open</td>\n      <td>2020-12-11 11:03:17</td>\n      <td>NaT</td>\n      <td>1617 LLEWELYN AVE, Baltimore City, 21213</td>\n      <td>Oliver</td>\n      <td>39.306862</td>\n      <td>-76.595619</td>\n      <td>SOUTHEAST</td>\n    </tr>\n    <tr>\n      <th>447565</th>\n      <td>20-00733732</td>\n      <td>SW-Cleaning</td>\n      <td>Solid Waste                                   ...</td>\n      <td>2020-10-27 12:08:09</td>\n      <td>Open</td>\n      <td>2020-12-11 11:08:09</td>\n      <td>NaT</td>\n      <td>308 S MONROE ST, Baltimore City, 21223</td>\n      <td>Carrollton Ridge</td>\n      <td>39.283952</td>\n      <td>-76.646862</td>\n      <td>SOUTHWEST</td>\n    </tr>\n  </tbody>\n</table>\n<p>374198 rows × 12 columns</p>\n</div>"
     },
     "metadata": {},
     "execution_count": 11
    }
   ],
   "source": [
    "original_recs = pd.read_pickle(r\"311_CSR_SW.pkl\")\n",
    "\n",
    "non_proactive_recs = original_recs.loc[original_recs[\"SR Type\"].str.contains('Proactive')==False]\n",
    "clean_recs = non_proactive_recs.loc[non_proactive_recs[\"SR Status\"].str.contains('Duplicate')==False]\n",
    "\n",
    "clean_recs"
   ]
  },
  {
   "cell_type": "code",
   "execution_count": 2,
   "metadata": {},
   "outputs": [],
   "source": [
    "\n"
   ]
  }
 ]
}