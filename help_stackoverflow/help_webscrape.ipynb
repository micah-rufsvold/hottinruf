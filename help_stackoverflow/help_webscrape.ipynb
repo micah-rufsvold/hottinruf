{
 "metadata": {
  "language_info": {
   "codemirror_mode": {
    "name": "ipython",
    "version": 3
   },
   "file_extension": ".py",
   "mimetype": "text/x-python",
   "name": "python",
   "nbconvert_exporter": "python",
   "pygments_lexer": "ipython3",
   "version": 3
  },
  "orig_nbformat": 2
 },
 "nbformat": 4,
 "nbformat_minor": 2,
 "cells": [
  {
   "cell_type": "code",
   "execution_count": null,
   "metadata": {},
   "outputs": [],
   "source": [
    "import requests\n",
    "from bs4 import BeautifulSoup\n",
    "import pandas as pd\n",
    "\n",
    "\n",
    "def main(req, num):\n",
    "    r = req.get(\"https://stopcensura.net/category/immigrazione/page/{}/\".format(num))\n",
    "    soup = BeautifulSoup(r.content, 'html.parser')\n",
    "    for tag in soup.select(\".entry-header\"):\n",
    "        print(tag.select_one(\".entry-title a\").text)\n",
    "        print(tag.select_one(\".date a\").text)\n",
    "        print(tag.select_one(\".by-author a\").text)\n",
    "        print(tag.find_next(class_=\"entry-content\").text.strip())\n",
    "    \n",
    "    return tag.select_one(\".entry-title a\").text, tag.select_one(\".date a\").text, tag.select_one(\".by-author a\").text, tag.find_next(class_=\"entry-content\").text.strip()\n"
   ]
  },
  {
   "cell_type": "code",
   "execution_count": null,
   "metadata": {},
   "outputs": [],
   "source": [
    "import requests\n",
    "from bs4 import BeautifulSoup\n",
    "import pandas as pd\n",
    "\n"
   ]
  }
 ]
}