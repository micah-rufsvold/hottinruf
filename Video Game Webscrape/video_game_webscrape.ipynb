{
 "metadata": {
  "language_info": {
   "codemirror_mode": {
    "name": "ipython",
    "version": 3
   },
   "file_extension": ".py",
   "mimetype": "text/x-python",
   "name": "python",
   "nbconvert_exporter": "python",
   "pygments_lexer": "ipython3",
   "version": 3
  },
  "orig_nbformat": 2
 },
 "nbformat": 4,
 "nbformat_minor": 2,
 "cells": [
  {
   "cell_type": "code",
   "execution_count": 67,
   "metadata": {},
   "outputs": [],
   "source": [
    "from bs4 import BeautifulSoup as bs\n",
    "import urllib3, pandas, re, string\n",
    "http = urllib3.PoolManager()"
   ]
  },
  {
   "cell_type": "code",
   "execution_count": 68,
   "metadata": {},
   "outputs": [
    {
     "output_type": "execute_result",
     "data": {
      "text/plain": [
       "                                   Title Est Release Year  \\\n",
       "0                        007 Blood Stone             2010   \n",
       "1                          007 Nightfire             2002   \n",
       "2     100 Great Educational Games Vol. 3             2000   \n",
       "3                        100 Great Games             1998   \n",
       "4                 100 Great Games vol. 2             2000   \n",
       "...                                  ...              ...   \n",
       "2009                        Zoo Tycoon 2             2005   \n",
       "2010     Zoo Tycoon: Complete Collection             2003   \n",
       "2011                             Zoo Vet             2005   \n",
       "2012            Zoombinis Island Odyssey             2002   \n",
       "2013                        Zork Nemesis             1996   \n",
       "\n",
       "             Operating System                          URL Title  \n",
       "0          Windows XP/Vista/7                    007-Blood-Stone  \n",
       "1                     Windows                      007-Nightfire  \n",
       "2                  Windows 98  100-Great-Educational-Games-Vol-3  \n",
       "3                  Windows 98                    100-Great-Games  \n",
       "4      Windows 98 and Palm OS              100-Great-Games-vol-2  \n",
       "...                       ...                                ...  \n",
       "2009  Windows XP/2000/ME/98SE                       Zoo-Tycoon-2  \n",
       "2010       Windows 98/ME/2000     Zoo-Tycoon-Complete-Collection  \n",
       "2011    Windows 98/ME/2000/XP                            Zoo-Vet  \n",
       "2012            Windows & Mac           Zoombinis-Island-Odyssey  \n",
       "2013                  Windows                       Zork-Nemesis  \n",
       "\n",
       "[2014 rows x 4 columns]"
      ],
      "text/html": "<div>\n<style scoped>\n    .dataframe tbody tr th:only-of-type {\n        vertical-align: middle;\n    }\n\n    .dataframe tbody tr th {\n        vertical-align: top;\n    }\n\n    .dataframe thead th {\n        text-align: right;\n    }\n</style>\n<table border=\"1\" class=\"dataframe\">\n  <thead>\n    <tr style=\"text-align: right;\">\n      <th></th>\n      <th>Title</th>\n      <th>Est Release Year</th>\n      <th>Operating System</th>\n      <th>URL Title</th>\n    </tr>\n  </thead>\n  <tbody>\n    <tr>\n      <th>0</th>\n      <td>007 Blood Stone</td>\n      <td>2010</td>\n      <td>Windows XP/Vista/7</td>\n      <td>007-Blood-Stone</td>\n    </tr>\n    <tr>\n      <th>1</th>\n      <td>007 Nightfire</td>\n      <td>2002</td>\n      <td>Windows</td>\n      <td>007-Nightfire</td>\n    </tr>\n    <tr>\n      <th>2</th>\n      <td>100 Great Educational Games Vol. 3</td>\n      <td>2000</td>\n      <td>Windows 98</td>\n      <td>100-Great-Educational-Games-Vol-3</td>\n    </tr>\n    <tr>\n      <th>3</th>\n      <td>100 Great Games</td>\n      <td>1998</td>\n      <td>Windows 98</td>\n      <td>100-Great-Games</td>\n    </tr>\n    <tr>\n      <th>4</th>\n      <td>100 Great Games vol. 2</td>\n      <td>2000</td>\n      <td>Windows 98 and Palm OS</td>\n      <td>100-Great-Games-vol-2</td>\n    </tr>\n    <tr>\n      <th>...</th>\n      <td>...</td>\n      <td>...</td>\n      <td>...</td>\n      <td>...</td>\n    </tr>\n    <tr>\n      <th>2009</th>\n      <td>Zoo Tycoon 2</td>\n      <td>2005</td>\n      <td>Windows XP/2000/ME/98SE</td>\n      <td>Zoo-Tycoon-2</td>\n    </tr>\n    <tr>\n      <th>2010</th>\n      <td>Zoo Tycoon: Complete Collection</td>\n      <td>2003</td>\n      <td>Windows 98/ME/2000</td>\n      <td>Zoo-Tycoon-Complete-Collection</td>\n    </tr>\n    <tr>\n      <th>2011</th>\n      <td>Zoo Vet</td>\n      <td>2005</td>\n      <td>Windows 98/ME/2000/XP</td>\n      <td>Zoo-Vet</td>\n    </tr>\n    <tr>\n      <th>2012</th>\n      <td>Zoombinis Island Odyssey</td>\n      <td>2002</td>\n      <td>Windows &amp; Mac</td>\n      <td>Zoombinis-Island-Odyssey</td>\n    </tr>\n    <tr>\n      <th>2013</th>\n      <td>Zork Nemesis</td>\n      <td>1996</td>\n      <td>Windows</td>\n      <td>Zork-Nemesis</td>\n    </tr>\n  </tbody>\n</table>\n<p>2014 rows × 4 columns</p>\n</div>"
     },
     "metadata": {},
     "execution_count": 68
    }
   ],
   "source": [
    "game_list = pandas.read_csv('game_list.csv')\n",
    "game_list\n",
    "def url_title(title):\n",
    "    title = title.replace(' ','_')\n",
    "    pattern = re.compile('[\\W]+')\n",
    "    title = pattern.sub('', title)\n",
    "    title = title.replace('_','-')\n",
    "    return title\n",
    "game_list['URL Title'] = game_list.apply(lambda x : url_title(x['Title']), axis=1)\n",
    "\n",
    "game_list"
   ]
  },
  {
   "cell_type": "code",
   "execution_count": 80,
   "metadata": {},
   "outputs": [
    {
     "output_type": "stream",
     "name": "stdout",
     "text": [
      "007 Blood Stone\n007 Nightfire\n100 Great Educational Games Vol. 3\n100 Great Games\n100 Great Games vol. 2\n102 Dalmatians:Puppies to the Rescue\n15,000 Games\n1602 AD\n18 Wheels of Steel Across America\n2 Months of AOL\n200 Great Games for Windows\n"
     ]
    }
   ],
   "source": [
    "def get_game_info(title):\n",
    "    base_url = \"https://www.mobygames.com/game/\"\n",
    "    game_url = base_url+title\n",
    "    r = http.request('GET', game_url)\n",
    "    if r.status == '404':\n",
    "        return None\n",
    "    else:\n",
    "        print(title)\n",
    "        soup = bs(r.data, 'html.parser')\n",
    "        release_tags = soup.find_all('a', href=re.compile('release-info'))\n",
    "        print(release_tags)\n",
    "        if len(release_tags == 2):\n",
    "            release_tag = release_tags[1]\n",
    "            release_date = release_tag.contents\n",
    "        else:\n",
    "            print(release_tags)\n",
    "            return None\n",
    "        \n",
    "\n",
    "        return release_date\n",
    "\n",
    "test_games = game_list.loc[0:10]\n",
    "\n",
    "for x in range(0,11):\n",
    "    print(test_games.loc[x]['Title'])\n",
    "    base_url = \"https://www.mobygames.com/game/\"\n",
    "    game_url = base_url+game['Title']\n",
    "    r = http.request('GET', game_url)\n",
    "    if r.status == '404':\n",
    "        print(None)\n",
    "    else:\n",
    "        print(title)\n",
    "        soup = bs(r.data, 'html.parser')\n",
    "        release_tags = soup.find_all('a', href=re.compile('release-info'))\n",
    "        print(release_tags)\n",
    "        if len(release_tags == 2):\n",
    "            release_tag = release_tags[1]\n",
    "            release_date = release_tag.contents\n",
    "        else:\n",
    "            print(release_tags)\n",
    "            print(None)\n",
    "        \n",
    "\n",
    "        print(release_date)\n",
    "\n",
    "\n",
    "#test = test_games.apply(lambda x : get_game_info(x['URL Title']), axis = 1)\n",
    "test"
   ]
  },
  {
   "cell_type": "code",
   "execution_count": 50,
   "metadata": {
    "tags": []
   },
   "outputs": [
    {
     "output_type": "execute_result",
     "data": {
      "text/plain": [
       "['1997']"
      ]
     },
     "metadata": {},
     "execution_count": 50
    }
   ],
   "source": []
  }
 ]
}