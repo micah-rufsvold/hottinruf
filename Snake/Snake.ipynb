{
 "cells": [
  {
   "cell_type": "code",
   "execution_count": 7,
   "metadata": {},
   "outputs": [],
   "source": [
    "import pygame\n",
    "pygame.init()\n",
    "\n",
    "dis_width = 800\n",
    "dis_height = 600\n",
    "dis=pygame.display.set_mode((dis_width,dis_height))\n",
    "pygame.display.update()\n",
    "pygame.display.set_caption('Snake game by Micah')\n",
    "\n",
    "blue=(0,0,255)\n",
    "red=(255,0,0)\n",
    "white = (255,255,255)\n",
    "black = (0,0,0)\n",
    "\n",
    "game_over=False\n",
    "\n",
    "x1= dis_width/2\n",
    "y1=dis_height/2\n",
    "x1_change = 0 \n",
    "y1_change=0\n",
    "\n",
    "clock = pygame.time.Clock()\n",
    "snake_speed = 30\n",
    "\n",
    "font_style = pygame.font.SysFont(None, 50)\n",
    "\n",
    "def message(msg,color):\n",
    "    mesg= font_style.render(msg,True,color)\n",
    "    dis.blit(mesg, [dis_width/2, dis_height/2])\n",
    "\n",
    "    \n",
    "clock = pygame.time.Clock()\n",
    "\n",
    "while not game_over:\n",
    "    for event in pygame.event.get():\n",
    "        if event.type==pygame.QUIT:\n",
    "            game_over=True\n",
    "        if event.type == pygame.KEYDOWN:\n",
    "            if event.key == pygame.K_LEFT:\n",
    "                x1_change = -10\n",
    "                y1_change = 0\n",
    "            if event.key == pygame.K_RIGHT:\n",
    "                x1_change = 10\n",
    "                y1_change = 0\n",
    "            if event.key == pygame.K_UP:\n",
    "                x1_change = 0\n",
    "                y1_change = -10\n",
    "            if event.key == pygame.K_DOWN:\n",
    "                x1_change = 0\n",
    "                y1_change = 10\n",
    "    x1 += x1_change\n",
    "    y1 += y1_change\n",
    "    dis.fill(white)\n",
    "    pygame.draw.rect(dis,black,[x1,y1,10,10])\n",
    "    pygame.display.update()\n",
    "    \n",
    "    clock.tick(30)\n",
    "pygame.quit()"
   ]
  },
  {
   "cell_type": "code",
   "execution_count": null,
   "metadata": {},
   "outputs": [],
   "source": []
  }
 ],
 "metadata": {
  "kernelspec": {
   "display_name": "Python 3",
   "language": "python",
   "name": "python3"
  },
  "language_info": {
   "codemirror_mode": {
    "name": "ipython",
    "version": 3
   },
   "file_extension": ".py",
   "mimetype": "text/x-python",
   "name": "python",
   "nbconvert_exporter": "python",
   "pygments_lexer": "ipython3",
   "version": "3.8.3"
  }
 },
 "nbformat": 4,
 "nbformat_minor": 4
}
