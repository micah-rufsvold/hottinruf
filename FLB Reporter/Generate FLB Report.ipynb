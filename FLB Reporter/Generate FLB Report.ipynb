{
 "metadata": {
  "language_info": {
   "codemirror_mode": {
    "name": "ipython",
    "version": 3
   },
   "file_extension": ".py",
   "mimetype": "text/x-python",
   "name": "python",
   "nbconvert_exporter": "python",
   "pygments_lexer": "ipython3",
   "version": "3.8.3-final"
  },
  "orig_nbformat": 2,
  "kernelspec": {
   "name": "python3",
   "display_name": "Python 3"
  }
 },
 "nbformat": 4,
 "nbformat_minor": 2,
 "cells": [
  {
   "cell_type": "code",
   "execution_count": 58,
   "metadata": {},
   "outputs": [],
   "source": [
    "from openpyxl import load_workbook\n",
    "import pandas as pd\n",
    "from os.path import isfile, join\n",
    "from os import listdir\n",
    "\n",
    "def get_files_from_dir(dir):\n",
    "    file_list = [open(join(dir,f), 'r', encoding='UTF-8') for f in listdir(dir) if isfile(join(dir, f))]\n",
    "    return file_list\n"
   ]
  },
  {
   "cell_type": "code",
   "execution_count": 59,
   "metadata": {},
   "outputs": [],
   "source": [
    "#create a list of DFs that contain each sites' attendance log\n",
    "log_files = get_files_from_dir('Logs')\n",
    "logs = []\n",
    "for log in log_files:\n",
    "    logs.append(pd.read_csv(log))\n",
    "    log.close()\n",
    "\n",
    "#create a DF with registration data\n",
    "reg_file = get_files_from_dir('Reg_Data')[0]\n",
    "league_reg_list = pd.read_csv(reg_file)\n",
    "reg_file.close()\n",
    "\n",
    "#clean Registration DF\n",
    "def clean_reg_record(row):\n",
    "    races = [\"American Indian or Alaskan Native\",\"Asian\",\"Black or African American\",\n",
    "    \"Multiracial\", \"Native Hawaiian or Other Pacific Islander\", \"White\"]\n",
    "    stupid_binary_genders = [\"Male\",\"Female\"]\n",
    "    ethnicities = [\"Hispanic\",\"Not Hispanic\"]\n",
    "    schools = pd.read_csv('school list temp - Sheet1.csv')\n",
    "    row[\"Student First Name\"] = row[\"Student First Name\"].title()\n",
    "    row[\"Student Last Name\"] = row[\"Student Last Name\"].title()\n",
    "    if row[\"Race (optional)\"] not in races or row[\"Race (optional)\"] == None:\n",
    "        row[\"Race (optional)\"] = \"Did not disclose\"\n",
    "    if row[\"Ethnicity (Optional)\"] not in ethnicities:\n",
    "        row[\"Ethnicity (Optional)\"] = \"Did not disclose\"\n",
    "    if row[\"Gender\"] not in stupid_binary_genders:\n",
    "        row[\"Gender\"] = \"No response\"\n",
    "    if row[\"What school is your child attending in the 2020-2021 academic school year?\"] in schools[\"Schools\"].values:\n",
    "        row[\"What school is your child attending in the 2020-2021 academic school year?\"] = \"Other\"\n",
    "    return row\n",
    "\n",
    "league_reg_list = league_reg_list.apply(clean_reg_record,axis=1)\n",
    "\n",
    "#create a excel_FLB object\n",
    "excel_report = load_workbook(filename = 'FY21 Attendance Tracker_Final.xlsx')\n"
   ]
  },
  {
   "cell_type": "code",
   "execution_count": null,
   "metadata": {},
   "outputs": [],
   "source": []
  },
  {
   "cell_type": "code",
   "execution_count": 60,
   "metadata": {},
   "outputs": [],
   "source": [
    "#Set Up Ojbects for each sheet in the report\n",
    "enroll_sheet = excel_report[\"Enrollment\"]\n",
    "months = ['SEP','OCT','NOV','DEC','JAN','FEB','MAR','APR','MAY','JUN']\n",
    "month_sheets = {}\n",
    "for month in months:\n",
    "    month_sheets[month] = excel_report[month]"
   ]
  },
  {
   "cell_type": "code",
   "execution_count": 61,
   "metadata": {
    "tags": []
   },
   "outputs": [
    {
     "output_type": "stream",
     "name": "stdout",
     "text": [
      "<class 'openpyxl.cell.cell.Cell'>\nBlye\n"
     ]
    }
   ],
   "source": [
    "#Insert Registration Data in Excel_Obj\n",
    "no_next = False\n",
    "a=0\n",
    "columns = {\n",
    "    \"B\" : \"Student Last Name\",\n",
    "    \"D\" : \"Student First Name\",\n",
    "    \"F\" : \"Birth Date\",\n",
    "    #\"G\" : \"Student ID:\",\n",
    "    \"H\" : \"Race (optional)\",\n",
    "    \"I\" : \"Ethnicity (Optional)\",\n",
    "    \"J\" : \"Gender\",\n",
    "    \"M\" : \"What school is your child attending in the 2020-2021 academic school year?\",\n",
    "    \"N\" : \"What grade is your child currently in? \",\n",
    "    \"O\" : \"Home Address\",\n",
    "    \"P\" : \"Zip Code\"\n",
    "    #,\n",
    "    #\"Q\" : \"first attended\",\n",
    "    #\"R\" : \"last attended\"\n",
    "}\n",
    "\n",
    "\n",
    "enroll_sheet['B3'] = \"test\"\n",
    "\n",
    "while not no_next:\n",
    "    row = league_reg_list.iloc[a]\n",
    "    for col in columns:\n",
    "        #print(col+str(a+2))\n",
    "        cell=col+str(a+2)\n",
    "        enroll_sheet[cell] = row[columns[col]]\n",
    "    no_next = len(league_reg_list) == a+1\n",
    "    a += 1\n",
    "\n"
   ]
  },
  {
   "cell_type": "code",
   "execution_count": 64,
   "metadata": {},
   "outputs": [
    {
     "output_type": "error",
     "ename": "PermissionError",
     "evalue": "[Errno 13] Permission denied: 'FY21 Attendance Tracker BUDL Nov 5.xlsx'",
     "traceback": [
      "\u001b[1;31m---------------------------------------------------------------------------\u001b[0m",
      "\u001b[1;31mPermissionError\u001b[0m                           Traceback (most recent call last)",
      "\u001b[1;32m<ipython-input-64-2cf7aa5454b5>\u001b[0m in \u001b[0;36m<module>\u001b[1;34m\u001b[0m\n\u001b[0;32m      1\u001b[0m \u001b[1;31m#save the file\u001b[0m\u001b[1;33m\u001b[0m\u001b[1;33m\u001b[0m\u001b[1;33m\u001b[0m\u001b[0m\n\u001b[1;32m----> 2\u001b[1;33m \u001b[0mexcel_report\u001b[0m\u001b[1;33m.\u001b[0m\u001b[0msave\u001b[0m\u001b[1;33m(\u001b[0m\u001b[1;34m'FY21 Attendance Tracker BUDL Nov 5.xlsx'\u001b[0m\u001b[1;33m)\u001b[0m\u001b[1;33m\u001b[0m\u001b[1;33m\u001b[0m\u001b[0m\n\u001b[0m",
      "\u001b[1;32m~\\Anaconda3\\lib\\site-packages\\openpyxl\\workbook\\workbook.py\u001b[0m in \u001b[0;36msave\u001b[1;34m(self, filename)\u001b[0m\n\u001b[0;32m    390\u001b[0m         \u001b[1;32mif\u001b[0m \u001b[0mself\u001b[0m\u001b[1;33m.\u001b[0m\u001b[0mwrite_only\u001b[0m \u001b[1;32mand\u001b[0m \u001b[1;32mnot\u001b[0m \u001b[0mself\u001b[0m\u001b[1;33m.\u001b[0m\u001b[0mworksheets\u001b[0m\u001b[1;33m:\u001b[0m\u001b[1;33m\u001b[0m\u001b[1;33m\u001b[0m\u001b[0m\n\u001b[0;32m    391\u001b[0m             \u001b[0mself\u001b[0m\u001b[1;33m.\u001b[0m\u001b[0mcreate_sheet\u001b[0m\u001b[1;33m(\u001b[0m\u001b[1;33m)\u001b[0m\u001b[1;33m\u001b[0m\u001b[1;33m\u001b[0m\u001b[0m\n\u001b[1;32m--> 392\u001b[1;33m         \u001b[0msave_workbook\u001b[0m\u001b[1;33m(\u001b[0m\u001b[0mself\u001b[0m\u001b[1;33m,\u001b[0m \u001b[0mfilename\u001b[0m\u001b[1;33m)\u001b[0m\u001b[1;33m\u001b[0m\u001b[1;33m\u001b[0m\u001b[0m\n\u001b[0m\u001b[0;32m    393\u001b[0m \u001b[1;33m\u001b[0m\u001b[0m\n\u001b[0;32m    394\u001b[0m \u001b[1;33m\u001b[0m\u001b[0m\n",
      "\u001b[1;32m~\\Anaconda3\\lib\\site-packages\\openpyxl\\writer\\excel.py\u001b[0m in \u001b[0;36msave_workbook\u001b[1;34m(workbook, filename)\u001b[0m\n\u001b[0;32m    289\u001b[0m \u001b[1;33m\u001b[0m\u001b[0m\n\u001b[0;32m    290\u001b[0m     \"\"\"\n\u001b[1;32m--> 291\u001b[1;33m     \u001b[0marchive\u001b[0m \u001b[1;33m=\u001b[0m \u001b[0mZipFile\u001b[0m\u001b[1;33m(\u001b[0m\u001b[0mfilename\u001b[0m\u001b[1;33m,\u001b[0m \u001b[1;34m'w'\u001b[0m\u001b[1;33m,\u001b[0m \u001b[0mZIP_DEFLATED\u001b[0m\u001b[1;33m,\u001b[0m \u001b[0mallowZip64\u001b[0m\u001b[1;33m=\u001b[0m\u001b[1;32mTrue\u001b[0m\u001b[1;33m)\u001b[0m\u001b[1;33m\u001b[0m\u001b[1;33m\u001b[0m\u001b[0m\n\u001b[0m\u001b[0;32m    292\u001b[0m     \u001b[0mwriter\u001b[0m \u001b[1;33m=\u001b[0m \u001b[0mExcelWriter\u001b[0m\u001b[1;33m(\u001b[0m\u001b[0mworkbook\u001b[0m\u001b[1;33m,\u001b[0m \u001b[0marchive\u001b[0m\u001b[1;33m)\u001b[0m\u001b[1;33m\u001b[0m\u001b[1;33m\u001b[0m\u001b[0m\n\u001b[0;32m    293\u001b[0m     \u001b[0mwriter\u001b[0m\u001b[1;33m.\u001b[0m\u001b[0msave\u001b[0m\u001b[1;33m(\u001b[0m\u001b[1;33m)\u001b[0m\u001b[1;33m\u001b[0m\u001b[1;33m\u001b[0m\u001b[0m\n",
      "\u001b[1;32m~\\Anaconda3\\lib\\zipfile.py\u001b[0m in \u001b[0;36m__init__\u001b[1;34m(self, file, mode, compression, allowZip64, compresslevel, strict_timestamps)\u001b[0m\n\u001b[0;32m   1248\u001b[0m             \u001b[1;32mwhile\u001b[0m \u001b[1;32mTrue\u001b[0m\u001b[1;33m:\u001b[0m\u001b[1;33m\u001b[0m\u001b[1;33m\u001b[0m\u001b[0m\n\u001b[0;32m   1249\u001b[0m                 \u001b[1;32mtry\u001b[0m\u001b[1;33m:\u001b[0m\u001b[1;33m\u001b[0m\u001b[1;33m\u001b[0m\u001b[0m\n\u001b[1;32m-> 1250\u001b[1;33m                     \u001b[0mself\u001b[0m\u001b[1;33m.\u001b[0m\u001b[0mfp\u001b[0m \u001b[1;33m=\u001b[0m \u001b[0mio\u001b[0m\u001b[1;33m.\u001b[0m\u001b[0mopen\u001b[0m\u001b[1;33m(\u001b[0m\u001b[0mfile\u001b[0m\u001b[1;33m,\u001b[0m \u001b[0mfilemode\u001b[0m\u001b[1;33m)\u001b[0m\u001b[1;33m\u001b[0m\u001b[1;33m\u001b[0m\u001b[0m\n\u001b[0m\u001b[0;32m   1251\u001b[0m                 \u001b[1;32mexcept\u001b[0m \u001b[0mOSError\u001b[0m\u001b[1;33m:\u001b[0m\u001b[1;33m\u001b[0m\u001b[1;33m\u001b[0m\u001b[0m\n\u001b[0;32m   1252\u001b[0m                     \u001b[1;32mif\u001b[0m \u001b[0mfilemode\u001b[0m \u001b[1;32min\u001b[0m \u001b[0mmodeDict\u001b[0m\u001b[1;33m:\u001b[0m\u001b[1;33m\u001b[0m\u001b[1;33m\u001b[0m\u001b[0m\n",
      "\u001b[1;31mPermissionError\u001b[0m: [Errno 13] Permission denied: 'FY21 Attendance Tracker BUDL Nov 5.xlsx'"
     ]
    }
   ],
   "source": [
    "#save the file\n",
    "excel_report.save('FY21 Attendance Tracker BUDL Nov 5.xlsx')"
   ]
  },
  {
   "cell_type": "code",
   "execution_count": null,
   "metadata": {},
   "outputs": [],
   "source": [
    "#for log in logs:\n",
    "    #new_enroll = Filter reg_df on names from attend_DF\n",
    "    #reformat to match formatting of FLB report\n",
    "    #Add names and enroll_data to excel_FLB.sheet('Enrollment')\n",
    "    #parse data from attendance log to add ones and zeros to each month"
   ]
  },
  {
   "cell_type": "code",
   "execution_count": 46,
   "metadata": {},
   "outputs": [
    {
     "output_type": "execute_result",
     "data": {
      "text/plain": [
       "True"
      ]
     },
     "metadata": {},
     "execution_count": 46
    }
   ],
   "source": [
    "test = pd.DataFrame([[1,4],[2,5],[3,6]])\n",
    "test.columns = [\"a\", \"b\"]\n",
    "3 in test[\"a\"].values"
   ]
  }
 ]
}