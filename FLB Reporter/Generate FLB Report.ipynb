{
 "metadata": {
  "language_info": {
   "codemirror_mode": {
    "name": "ipython",
    "version": 3
   },
   "file_extension": ".py",
   "mimetype": "text/x-python",
   "name": "python",
   "nbconvert_exporter": "python",
   "pygments_lexer": "ipython3",
   "version": "3.8.3-final"
  },
  "orig_nbformat": 2,
  "kernelspec": {
   "name": "python3",
   "display_name": "Python 3"
  }
 },
 "nbformat": 4,
 "nbformat_minor": 2,
 "cells": [
  {
   "cell_type": "code",
   "execution_count": 11,
   "metadata": {},
   "outputs": [],
   "source": [
    "from openpyxl import load_workbook\n",
    "import pandas as pd\n",
    "from os.path import isfile, join\n",
    "from os import listdir\n",
    "\n",
    "def get_files_from_dir(dir):\n",
    "    file_list = [open(join(dir,f), 'r', encoding='UTF-8') for f in listdir(dir) if isfile(join(dir, f))]\n",
    "    return file_list\n"
   ]
  },
  {
   "cell_type": "code",
   "execution_count": 12,
   "metadata": {},
   "outputs": [],
   "source": [
    "#create a list of DFs that contain each sites' attendance log\n",
    "log_files = get_files_from_dir('Logs')\n",
    "logs = []\n",
    "for log in log_files:\n",
    "    logs.append(pd.read_csv(log))\n",
    "    log.close()\n",
    "\n",
    "#create a DF with registration data\n",
    "reg_file = get_files_from_dir('Reg_Data')[0]\n",
    "league_reg_list = pd.read_csv(reg_file)\n",
    "reg_file.close()\n",
    "\n",
    "\n",
    "\n",
    "#create a excel_FLB object\n",
    "excel_report = load_workbook(filename = 'FY21 Attendance Tracker_Final.xlsx')\n",
    "\n",
    "#Set Up Ojbects for each sheet in the report\n",
    "enroll_sheet = excel_report[\"Enrollment\"]\n",
    "months = ['SEP','OCT','NOV','DEC','JAN','FEB','MAR','APR','MAY','JUN']\n",
    "month_sheets = {}\n",
    "for month in months:\n",
    "    month_sheets[month] = excel_report[month]"
   ]
  },
  {
   "cell_type": "code",
   "execution_count": null,
   "metadata": {},
   "outputs": [],
   "source": [
    "#clean Registration DF\n",
    "def clean_reg_record(row):\n",
    "    races = [\"American Indian or Alaskan Native\",\"Asian\",\"Black or African American\",\n",
    "    \"Multiracial\", \"Native Hawaiian or Other Pacific Islander\", \"White\"]\n",
    "    stupid_binary_genders = [\"Male\",\"Female\"]\n",
    "    ethnicities = [\"Hispanic\",\"Not Hispanic\"]\n",
    "    schools = pd.read_csv('school list temp - Sheet1.csv')\n",
    "    row[\"Student First Name\"] = row[\"Student First Name\"].title()\n",
    "    row[\"Student Last Name\"] = row[\"Student Last Name\"].title()\n",
    "    if row[\"Race (optional)\"] not in races or row[\"Race (optional)\"] == None:\n",
    "        row[\"Race (optional)\"] = \"Did not disclose\"\n",
    "    if row[\"Ethnicity (Optional)\"] not in ethnicities:\n",
    "        row[\"Ethnicity (Optional)\"] = \"Did not disclose\"\n",
    "    if row[\"Gender\"] not in stupid_binary_genders:\n",
    "        row[\"Gender\"] = \"No response\"\n",
    "    if row[\"What school is your child attending in the 2020-2021 academic school year?\"] not in schools[\"Schools\"].values:\n",
    "        row[\"What school is your child attending in the 2020-2021 academic school year?\"] = \"Other\"\n",
    "    return row\n",
    "\n",
    "league_reg_list = league_reg_list.apply(clean_reg_record,axis=1)"
   ]
  },
  {
   "cell_type": "code",
   "execution_count": null,
   "metadata": {},
   "outputs": [],
   "source": []
  },
  {
   "cell_type": "code",
   "execution_count": 13,
   "metadata": {},
   "outputs": [],
   "source": []
  },
  {
   "cell_type": "code",
   "execution_count": 14,
   "metadata": {
    "tags": []
   },
   "outputs": [],
   "source": [
    "#Insert Registration Data in Excel_Obj\n",
    "no_next = False\n",
    "a=0\n",
    "columns = {\n",
    "    \"B\" : \"Student Last Name\",\n",
    "    \"D\" : \"Student First Name\",\n",
    "    \"F\" : \"Birth Date\",\n",
    "    #\"G\" : \"Student ID:\",\n",
    "    \"H\" : \"Race (optional)\",\n",
    "    \"I\" : \"Ethnicity (Optional)\",\n",
    "    \"J\" : \"Gender\",\n",
    "    \"M\" : \"What school is your child attending in the 2020-2021 academic school year?\",\n",
    "    \"N\" : \"What grade is your child currently in? \",\n",
    "    \"O\" : \"Home Address\",\n",
    "    \"P\" : \"Zip Code\"\n",
    "    #,\n",
    "    #\"Q\" : \"first attended\",\n",
    "    #\"R\" : \"last attended\"\n",
    "}\n",
    "\n",
    "\n",
    "enroll_sheet['B3'] = \"test\"\n",
    "\n",
    "while not no_next:\n",
    "    row = league_reg_list.iloc[a]\n",
    "    for col in columns:\n",
    "        #print(col+str(a+2))\n",
    "        cell=col+str(a+2)\n",
    "        enroll_sheet[cell] = row[columns[col]]\n",
    "    no_next = len(league_reg_list) == a+1\n",
    "    a += 1\n",
    "\n"
   ]
  },
  {
   "cell_type": "code",
   "execution_count": 15,
   "metadata": {},
   "outputs": [],
   "source": [
    "#save the file\n",
    "excel_report.save('FY21 Attendance Tracker BUDL Nov 5.xlsx')"
   ]
  },
  {
   "cell_type": "code",
   "execution_count": 16,
   "metadata": {},
   "outputs": [],
   "source": [
    "#for log in logs:\n",
    "    #new_enroll = Filter reg_df on names from attend_DF\n",
    "    #reformat to match formatting of FLB report\n",
    "    #Add names and enroll_data to excel_FLB.sheet('Enrollment')\n",
    "    #parse data from attendance log to add ones and zeros to each month"
   ]
  },
  {
   "cell_type": "code",
   "execution_count": 17,
   "metadata": {},
   "outputs": [
    {
     "output_type": "execute_result",
     "data": {
      "text/plain": [
       "True"
      ]
     },
     "metadata": {},
     "execution_count": 17
    }
   ],
   "source": [
    "schools = pd.read_csv('school list temp - Sheet1.csv')\n",
    "\n",
    "\"Waverly Elementary/Middle School\" in schools.values"
   ]
  },
  {
   "cell_type": "code",
   "execution_count": null,
   "metadata": {},
   "outputs": [],
   "source": []
  }
 ]
}